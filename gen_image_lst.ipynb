{
 "cells": [
  {
   "cell_type": "code",
   "execution_count": 6,
   "metadata": {
    "collapsed": true
   },
   "outputs": [],
   "source": [
    "\n",
    "def gen_cifar10(inpath, outpath):\n",
    "    fout = open(outpath, 'w')\n",
    "    num = 0\n",
    "    with open(inpath) as fin:\n",
    "        for line in fin.readlines():\n",
    "            img, cls = line.split()[:2]\n",
    "            fout.write('{}\\t{}\\t{}\\n'.format(num, cls, img))\n",
    "            num += 1\n",
    "    fout.close()\n",
    "    \n",
    "\n",
    "gen_cifar10('../../../../21_aipg/cifar-10-batches-py/test.list', 'cifar10_test.lst')\n",
    "gen_cifar10('../../../../21_aipg/cifar-10-batches-py/train.list', 'cifar10_train.lst')"
   ]
  },
  {
   "cell_type": "code",
   "execution_count": 1,
   "metadata": {
    "scrolled": true
   },
   "outputs": [
    {
     "name": "stdout",
     "output_type": "stream",
     "text": [
      "domestic_cat_s_000907.png 3\r\n",
      "hydrofoil_s_000078.png 8\r\n",
      "sea_boat_s_001456.png 8\r\n",
      "jetliner_s_001705.png 0\r\n",
      "green_frog_s_001658.png 6\r\n",
      "crapaud_s_002124.png 6\r\n",
      "shooting_brake_s_000973.png 1\r\n",
      "green_frog_s_000634.png 6\r\n",
      "tabby_cat_s_001397.png 3\r\n",
      "wagon_s_002806.png 1\r\n"
     ]
    }
   ],
   "source": [
    "! head ../../../../21_aipg/cifar-10-batches-py/test.list"
   ]
  },
  {
   "cell_type": "code",
   "execution_count": 9,
   "metadata": {},
   "outputs": [
    {
     "name": "stdout",
     "output_type": "stream",
     "text": [
      "training/MsCelebV1-Faces-Cropped/m.0109kg/14-FaceId-0.jpg 0 159.4 180.0 240.6 180.0 182.8 241.6 169.9 268.0 236.7 269.2\r\n",
      "training/MsCelebV1-Faces-Cropped/m.0109kg/0-FaceId-0.jpg 0 158.7 180.0 241.3 180.0 193.5 243.0 168.3 268.7 229.5 270.7\r\n",
      "training/MsCelebV1-Faces-Cropped/m.0109kg/49-FaceId-0.jpg 0 160.1 180.0 239.9 180.0 186.7 238.8 163.7 268.0 231.1 273.4\r\n",
      "training/MsCelebV1-Faces-Cropped/m.0109kg/38-FaceId-0.jpg 0 155.9 180.0 244.1 180.0 198.3 240.2 161.5 260.2 223.4 261.9\r\n",
      "training/MsCelebV1-Faces-Cropped/m.0109kg/58-FaceId-0.jpg 0 159.2 180.0 240.8 180.0 184.8 240.1 172.1 268.2 238.8 268.5\r\n",
      "training/MsCelebV1-Faces-Cropped/m.0109kg/3-FaceId-0.jpg 0 160.8 180.0 239.2 180.0 228.2 231.3 174.6 277.6 236.7 275.5\r\n",
      "training/MsCelebV1-Faces-Cropped/m.0109kg/59-FaceId-0.jpg 0 158.7 180.0 241.3 180.0 202.6 238.0 165.7 264.8 232.9 264.4\r\n",
      "training/MsCelebV1-Faces-Cropped/m.0109kg/28-FaceId-0.jpg 0 160.9 180.0 239.1 180.0 179.4 243.4 169.8 273.4 229.1 276.0\r\n",
      "training/MsCelebV1-Faces-Cropped/m.010g87/95-FaceId-0.jpg 1 153.6 180.0 246.4 180.0 188.5 226.4 157.7 264.5 236.6 264.5\r\n",
      "training/MsCelebV1-Faces-Cropped/m.010g87/104-FaceId-0.jpg 1 154.1 180.0 245.9 180.0 197.8 226.0 159.3 265.3 237.4 264.1\r\n"
     ]
    }
   ],
   "source": [
    "! head /data/Datasets/msra_lfw/msra/msra_lb_lmk"
   ]
  },
  {
   "cell_type": "code",
   "execution_count": 10,
   "metadata": {
    "collapsed": true
   },
   "outputs": [],
   "source": [
    "# 1. gen list\n",
    "faces = {}\n",
    "with open('/data/Datasets/msra_lfw/msra/msra_lb_lmk', 'r') as fin:\n",
    "    for line in fin.readlines():\n",
    "        slist = line.split()\n",
    "        label = slist[1]\n",
    "        path = line[9:].strip()\n",
    "        if label not in faces:\n",
    "            faces[label] = []\n",
    "        faces[label].append(path)\n",
    "\n",
    "sorted_keys = sorted(faces.keys(), key = lambda k: len(faces[k]), reverse = True)"
   ]
  },
  {
   "cell_type": "code",
   "execution_count": 11,
   "metadata": {},
   "outputs": [
    {
     "name": "stdout",
     "output_type": "stream",
     "text": [
      "6363 759783\n"
     ]
    }
   ],
   "source": [
    "import random\n",
    "\n",
    "label = 0\n",
    "lst = []\n",
    "for key in sorted_keys:\n",
    "    if len(faces[key]) >= 100:\n",
    "        for path in faces[key]:\n",
    "            lst.append((label, path))\n",
    "    else :\n",
    "        break\n",
    "    label += 1\n",
    "\n",
    "# random.seed(1024)\n",
    "# random.shuffle(lst)\n",
    "\n",
    "num_worker = 1\n",
    "while len(lst) % num_worker != 0:\n",
    "    lst.append(lst[random.randint(0, len(lst))])\n",
    "\n",
    "classes = label\n",
    "total_num = len(lst)\n",
    "print(classes, total_num)\n"
   ]
  },
  {
   "cell_type": "code",
   "execution_count": 12,
   "metadata": {},
   "outputs": [
    {
     "data": {
      "text/plain": [
       "[(0,\n",
       "  'MsCelebV1-Faces-Cropped/m.01l72d6/112-FaceId-0.jpg 71580 156.2 180.0 243.8 180.0 218.7 227.6 158.3 262.9 243.7 262.7'),\n",
       " (0,\n",
       "  'MsCelebV1-Faces-Cropped/m.01l72d6/104-FaceId-0.jpg 71580 155.0 180.0 245.0 180.0 193.1 229.0 153.7 261.0 243.5 261.1'),\n",
       " (0,\n",
       "  'MsCelebV1-Faces-Cropped/m.01l72d6/98-FaceId-0.jpg 71580 156.0 180.0 244.0 180.0 200.1 227.4 160.6 262.5 236.3 263.6'),\n",
       " (0,\n",
       "  'MsCelebV1-Faces-Cropped/m.01l72d6/88-FaceId-0.jpg 71580 155.4 180.0 244.6 180.0 201.6 229.7 154.7 262.5 244.1 262.2'),\n",
       " (0,\n",
       "  'MsCelebV1-Faces-Cropped/m.01l72d6/118-FaceId-0.jpg 71580 157.7 180.0 242.3 180.0 199.2 231.5 169.3 270.2 232.1 269.8'),\n",
       " (0,\n",
       "  'MsCelebV1-Faces-Cropped/m.01l72d6/62-FaceId-0.jpg 71580 153.1 180.0 246.9 180.0 180.6 209.0 153.1 270.2 220.3 271.4'),\n",
       " (0,\n",
       "  'MsCelebV1-Faces-Cropped/m.01l72d6/31-FaceId-1.jpg 71580 159.7 180.0 240.3 180.0 206.0 232.0 147.6 269.1 210.8 272.6'),\n",
       " (0,\n",
       "  'MsCelebV1-Faces-Cropped/m.01l72d6/69-FaceId-0.jpg 71580 156.3 180.0 243.7 180.0 199.9 227.6 162.7 264.6 232.7 264.5'),\n",
       " (0,\n",
       "  'MsCelebV1-Faces-Cropped/m.01l72d6/129-FaceId-0.jpg 71580 156.4 180.0 243.6 180.0 206.6 228.3 161.3 262.9 233.5 264.8'),\n",
       " (0,\n",
       "  'MsCelebV1-Faces-Cropped/m.01l72d6/131-FaceId-0.jpg 71580 156.6 180.0 243.4 180.0 209.1 233.8 156.6 260.0 234.3 261.9')]"
      ]
     },
     "execution_count": 12,
     "metadata": {},
     "output_type": "execute_result"
    }
   ],
   "source": [
    "lst[:10]"
   ]
  },
  {
   "cell_type": "code",
   "execution_count": 14,
   "metadata": {
    "collapsed": true
   },
   "outputs": [],
   "source": [
    "# for pytorch or caffe\n",
    "with open('train-gt-100.txt', 'w') as fout:\n",
    "    for i, elem in enumerate(lst):\n",
    "        label, value = elem\n",
    "        split = value.split()\n",
    "        path = split[0]\n",
    "        fout.write('{}\\t{}\\t{}\\n'.format(path, label, '\\t'.join(e for e in split[2:])))\n",
    "\n",
    "# with open('train-all-val.lst', 'w') as fout:\n",
    "#     num = 0\n",
    "#     for i, elem in enumerate(lst):\n",
    "#         if i % 10 == 0:\n",
    "#             label, path = elem\n",
    "#             fout.write('{}\\t{}\\t{}\\n'.format(num, label, path))\n",
    "#             num += 1"
   ]
  },
  {
   "cell_type": "code",
   "execution_count": null,
   "metadata": {
    "collapsed": true
   },
   "outputs": [],
   "source": [
    "# for mxnet\n",
    "with open('train-all.lst', 'w') as fout:\n",
    "    for i, elem in enumerate(lst):\n",
    "        label, path = elem\n",
    "        fout.write('{}\\t{}\\t{}\\n'.format(i, label, path))\n",
    "\n",
    "with open('train-all-val.lst', 'w') as fout:\n",
    "    num = 0\n",
    "    for i, elem in enumerate(lst):\n",
    "        if i % 10 == 0:\n",
    "            label, path = elem\n",
    "            fout.write('{}\\t{}\\t{}\\n'.format(num, label, path))\n",
    "            num += 1"
   ]
  },
  {
   "cell_type": "code",
   "execution_count": 38,
   "metadata": {},
   "outputs": [
    {
     "name": "stdout",
     "output_type": "stream",
     "text": [
      "0\t4186\tMsCelebV1-Faces-Cropped/m.0gc0ttn/27-FaceId-0.jpg\r\n",
      "1\t1242\tMsCelebV1-Faces-Cropped/m.0462p08/79-FaceId-0.jpg\r\n",
      "2\t4945\tMsCelebV1-Faces-Cropped/m.05h48b/57-FaceId-0.jpg\r\n",
      "3\t2892\tMsCelebV1-Faces-Cropped/m.04dqx/112-FaceId-0.jpg\r\n",
      "4\t4432\tMsCelebV1-Faces-Cropped/m.03v5f1/105-FaceId-0.jpg\r\n",
      "5\t2731\tMsCelebV1-Faces-Cropped/m.03x31g/32-FaceId-0.jpg\r\n",
      "6\t1042\tMsCelebV1-Faces-Cropped/m.03cp9fl/86-FaceId-0.jpg\r\n",
      "7\t1155\tMsCelebV1-Faces-Cropped/m.04ldhqx/33-FaceId-0.jpg\r\n",
      "8\t874\tMsCelebV1-Faces-Cropped/m.0dr_pk2/85-FaceId-0.jpg\r\n",
      "9\t1949\tMsCelebV1-Faces-Cropped/m.0bv2_0/32-FaceId-0.jpg\r\n"
     ]
    }
   ],
   "source": [
    "! cat train_mx_sym/train-gt-100.lst | wc -l\n",
    "! cat train_mx_sym/train-gt-100-val.lst | wc -l\n",
    "! head train-gt-100.lst"
   ]
  },
  {
   "cell_type": "code",
   "execution_count": 10,
   "metadata": {},
   "outputs": [
    {
     "data": {
      "text/plain": [
       "759784"
      ]
     },
     "execution_count": 10,
     "metadata": {},
     "output_type": "execute_result"
    }
   ],
   "source": [
    "len(lst)"
   ]
  },
  {
   "cell_type": "code",
   "execution_count": null,
   "metadata": {
    "collapsed": true
   },
   "outputs": [],
   "source": []
  }
 ],
 "metadata": {
  "kernelspec": {
   "display_name": "Python [conda root]",
   "language": "python",
   "name": "conda-root-py"
  },
  "language_info": {
   "codemirror_mode": {
    "name": "ipython",
    "version": 3
   },
   "file_extension": ".py",
   "mimetype": "text/x-python",
   "name": "python",
   "nbconvert_exporter": "python",
   "pygments_lexer": "ipython3",
   "version": "3.6.1"
  }
 },
 "nbformat": 4,
 "nbformat_minor": 2
}
